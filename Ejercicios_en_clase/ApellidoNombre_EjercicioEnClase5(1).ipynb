{
  "cells": [
    {
      "cell_type": "markdown",
      "id": "Ca47pvrzRXMy",
      "metadata": {
        "id": "Ca47pvrzRXMy"
      },
      "source": [
        "## Librerias"
      ]
    },
    {
      "cell_type": "code",
      "execution_count": null,
      "id": "6f64d18c-e6fe-4328-a15d-9344842eabd1",
      "metadata": {
        "id": "6f64d18c-e6fe-4328-a15d-9344842eabd1"
      },
      "outputs": [],
      "source": [
        "import numpy as np\n",
        "import matplotlib.pyplot as plt\n",
        "import matplotlib.animation as ani\n",
        "plt.style.use('dark_background')"
      ]
    },
    {
      "cell_type": "code",
      "execution_count": null,
      "id": "8NcRwJvGA_PB",
      "metadata": {
        "id": "8NcRwJvGA_PB"
      },
      "outputs": [],
      "source": [
        "from matplotlib import rc\n",
        "rc(\"animation\", html = \"jshtml\")"
      ]
    },
    {
      "cell_type": "markdown",
      "id": "Qiz2hMpLECsY",
      "metadata": {
        "id": "Qiz2hMpLECsY"
      },
      "source": [
        "## Problema\n",
        "\n",
        "Una función de onda viajera $\\psi(x, t) = e^{i(kx - \\omega t)}$ compleja, se puede interpretar como dos ondas simultaneas una con componente real y otra con componente imaginaria,\n",
        "\n",
        "$$\n",
        "e^{i(kx - \\omega t)} = \\cos{(kx - \\omega t)} + i \\sin{(kx - \\omega t)}\n",
        "$$"
      ]
    },
    {
      "cell_type": "markdown",
      "id": "hzSgASNnCEWe",
      "metadata": {
        "id": "hzSgASNnCEWe"
      },
      "source": [
        "a) Tomando $t=0$, gráfique con una figura y dos ejes (uno para la real otro para la imaginaria), las dos ondas para $k = 0.5$ y $\\omega = 1$, y para valores de x entre $-20$ y $20$. Puede guiarse del siguiente [notebook](https://github.com/diegour1/MetodosComputacionales2/blob/main/Notebooks/07%20-%20Pyplot_and_animation.ipynb)."
      ]
    },
    {
      "cell_type": "code",
      "execution_count": null,
      "id": "tYOJxsOF9QFz",
      "metadata": {
        "id": "tYOJxsOF9QFz"
      },
      "outputs": [],
      "source": [
        "t = 0\n",
        "k = 0.5\n",
        "w = 1\n",
        "x = np.linspace(-20, 20, 1000)"
      ]
    },
    {
      "cell_type": "code",
      "execution_count": null,
      "id": "ce7bdf79",
      "metadata": {},
      "outputs": [],
      "source": [
        "def phi_real(x, t=0):\n",
        "    return np.cos(k*x - w*t)\n",
        "\n",
        "def phi_imag(x, t=0):\n",
        "    return np.sin(k*x - w*t)"
      ]
    },
    {
      "cell_type": "code",
      "execution_count": null,
      "id": "1d666896",
      "metadata": {},
      "outputs": [],
      "source": [
        "fig, axs = plt.subplots(1, 2, figsize = (10, 5))\n",
        "\n"
      ]
    },
    {
      "cell_type": "markdown",
      "id": "u8E39qBpDV1V",
      "metadata": {
        "id": "u8E39qBpDV1V"
      },
      "source": [
        "b) Realice una simulación de las dos ondas viajeras para $t$ entre $0$ y $10$ con 100 puntos con $\\omega = 1$, las dos ondas deben desplazarse de forma simultanea. La simulación debe aparecer en el notebook, no deberia aparecer como un archivo separado. Pista: Arme una matriz que corresponde a la variación del tiempo y del espacio."
      ]
    },
    {
      "cell_type": "code",
      "execution_count": null,
      "id": "uwXYH1WjD2-e",
      "metadata": {
        "id": "uwXYH1WjD2-e"
      },
      "outputs": [],
      "source": [
        "# su codigo aqui\n"
      ]
    }
  ],
  "metadata": {
    "colab": {
      "provenance": []
    },
    "kernelspec": {
      "display_name": "Python 3 (ipykernel)",
      "language": "python",
      "name": "python3"
    },
    "language_info": {
      "codemirror_mode": {
        "name": "ipython",
        "version": 3
      },
      "file_extension": ".py",
      "mimetype": "text/x-python",
      "name": "python",
      "nbconvert_exporter": "python",
      "pygments_lexer": "ipython3",
      "version": "3.7.12"
    }
  },
  "nbformat": 4,
  "nbformat_minor": 5
}
