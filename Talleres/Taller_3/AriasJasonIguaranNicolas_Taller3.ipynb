{
  "cells": [
    {
      "cell_type": "markdown",
      "metadata": {
        "id": "0Z8Dn_z6Mb9b"
      },
      "source": [
        "# Taller 3\n",
        "\n",
        "## Métodos Computacionales 2\n",
        "\n",
        "Instrucciones: Suba el jupyter notebook **.ipynb** en la actividad de bloque neon. El archivo debe ser nombrado ApellidoNombreApellidoNombre_Taller3.ipynb, con su primer Apellido y Nombre de cada integrante de la pareja. **El archivo debe poder correr en google colab**\n",
        "\n",
        "Si un ejercicio demora **más de 10 segundos** en correr se considerará **incorrecto**.\n",
        "\n",
        "La simulación no debe demorar más de **30 segundos** en compilar y correr.\n",
        "\n",
        "No modifique el cuaderno, ni los modos de lectura de los archivos.\n",
        "\n",
        "**Entrega: Viernes 22 de Septiembre 11:59 pm**"
      ]
    },
    {
      "cell_type": "markdown",
      "metadata": {
        "id": "VvtNBbxJ0n7a"
      },
      "source": [
        "## Librerias"
      ]
    },
    {
      "cell_type": "code",
      "execution_count": 1,
      "metadata": {
        "id": "mmgcGeXk0pPA"
      },
      "outputs": [],
      "source": [
        "import time\n",
        "import numpy as np\n",
        "import scipy as sci\n",
        "import scipy.integrate as integrate\n",
        "import sympy as sym\n",
        "from sympy import symbols\n",
        "import pandas as pd\n",
        "import matplotlib.pyplot as plt\n",
        "from matplotlib import animation as ani\n",
        "from matplotlib.animation import FuncAnimation\n",
        "from IPython.display import HTML\n",
        "import time\n",
        "plt.style.use('dark_background')"
      ]
    },
    {
      "cell_type": "code",
      "execution_count": 2,
      "metadata": {
        "id": "0dwmjZUoDvLX"
      },
      "outputs": [],
      "source": [
        "from matplotlib import rc\n",
        "rc(\"animation\", html = \"jshtml\")\n",
        "sym.init_printing()\n",
        "#matplotlib.rcParams['animation.embed_limit'] = 2**128"
      ]
    },
    {
      "cell_type": "markdown",
      "metadata": {
        "id": "YF78rpJBEGqu"
      },
      "source": [
        "## Problema 1\n",
        "\n",
        "El siguiente codigo de C++ se obtienen los puntos de un tiro parabólico con los siguientes parametros,\n",
        "\n",
        "$x_0 = 0\\text{ m }$,\n",
        "$y_0 = 10\\text{ m }$,\n",
        "$v_{x0} = 10\\text{ m/s }$,\n",
        "$v_{y0} = 10\\text{ m }$,\n",
        "$t_f = 2.733 \\text{ s }$,\n",
        "$dt = 0.01 \\text{ s }$\n",
        "\n",
        "y tomando gravedad como,\n",
        "\n",
        "$g = 10 \\text{ m/s }^2$\n",
        "\n",
        "Además el código en python, y el script gráfican en matplotlib estos puntos,\n",
        "\n",
        "problema: Modificar el código de `C++` para incluir un tiro parabólico con fricción del aire y con las mismas condiciones iniciales usando el método de Runge-Kutta de 4to orden, al final debe gráficar el tiro parabólico normal y el tiro parabólico con fricción en la misma gráfica.\n",
        "\n",
        "Tome el coeficiente de fricción del aire y la masa como se definen en el archivo de C++.\n",
        "\n",
        "$b = 0.2 \\text{ kg/s }$,\n",
        "$m = 1 \\text{ kg }$.\n",
        "\n",
        "El método de Runge-Kutta para ecuaciones diferenciales de segundo orden tiene la forma,\n",
        "\n",
        " ![](https://raw.githubusercontent.com/diegour1/MetodosComputacionales2/main/Datafiles/runge%20kutta%202nd%20order.png)\n"
      ]
    },
    {
      "cell_type": "code",
      "execution_count": 3,
      "metadata": {
        "colab": {
          "base_uri": "https://localhost:8080/"
        },
        "id": "rlVwvFt7EIew",
        "outputId": "4fb61bb0-874c-43db-8b27-3a5895f68da3"
      },
      "outputs": [
        {
          "name": "stdout",
          "output_type": "stream",
          "text": [
            "Overwriting parabolico.cpp\n"
          ]
        }
      ],
      "source": [
        "%%writefile parabolico.cpp\n",
        "\n",
        "#include <iostream>\n",
        "#include <vector>\n",
        "#include <fstream>\n",
        "#include <cmath>\n",
        "#define g 10.0\n",
        "#define m 1\n",
        "#define b 0.2\n",
        "\n",
        "using namespace std;\n",
        "\n",
        "// Función para calcular la derivada de x con respecto al tiempo\n",
        "double dxdt(double /*t*/, double /*x*/, double vx) {\n",
        "    return vx;\n",
        "}\n",
        "\n",
        "// Función para calcular la derivada de vx con respecto al tiempo\n",
        "double dvxdt(double /*t*/, double /*x*/, double vx, double vy) {\n",
        "    double v = sqrt(vx * vx + vy * vy);\n",
        "    return -b / m * v * vx;\n",
        "}\n",
        "\n",
        "// Función para calcular la derivada de y con respecto al tiempo\n",
        "double dydt(double /*t*/, double /*y*/, double vy) {\n",
        "    return vy;\n",
        "}\n",
        "\n",
        "// Función para calcular la derivada de vy con respecto al tiempo\n",
        "double dvydt(double /*t*/, double /*y*/, double vy, double vx) {\n",
        "    double v = sqrt(vx * vx + vy * vy);\n",
        "    return -g - b / m * v * vy;\n",
        "}\n",
        "\n",
        "int main() {\n",
        "    float x_init = 0;\n",
        "    float y_init = 10;\n",
        "    float vx_init = 10;\n",
        "    float vy_init = 10;\n",
        "\n",
        "    float dt = 0.01;\n",
        "    float t_total = 2.733;\n",
        "    cout << \"total_time:\" <<  t_total << endl;\n",
        "    int N = t_total/dt;\n",
        "    cout << N;\n",
        "\n",
        "    vector<double> pos_x(N + 1);\n",
        "    vector<double> pos_y(N + 1);\n",
        "    \n",
        "    pos_x[0] = x_init;\n",
        "    pos_y[0] = y_init;\n",
        "\n",
        "\n",
        "    for (int i = 0; i < N; i++) {\n",
        "        double t = i * dt;\n",
        "\n",
        "        // Método de Runge-Kutta de 4to orden\n",
        "        double k1vx = dt * dvxdt(t, pos_x[i], vx_init, vy_init);\n",
        "        double k1vy = dt * dvydt(t, pos_y[i], vy_init, vx_init);\n",
        "        double k1x = dt * dxdt(t, pos_x[i], vx_init);\n",
        "        double k1y = dt * dydt(t, pos_y[i], vy_init);\n",
        "\n",
        "        double k2vx = dt * dvxdt(t + 0.5 * dt, pos_x[i] + 0.5 * k1x, vx_init + 0.5 * k1vx, vy_init + 0.5 * k1vy);\n",
        "        double k2vy = dt * dvydt(t + 0.5 * dt, pos_y[i] + 0.5 * k1y, vy_init + 0.5 * k1vy, vx_init + 0.5 * k1vx);\n",
        "        double k2x = dt * dxdt(t + 0.5 * dt, pos_x[i] + 0.5 * k1x, vx_init + 0.5 * k1vx);\n",
        "        double k2y = dt * dydt(t + 0.5 * dt, pos_y[i] + 0.5 * k1y, vy_init + 0.5 * k1vy);\n",
        "\n",
        "        double k3vx = dt * dvxdt(t + 0.5 * dt, pos_x[i] + 0.5 * k2x, vx_init + 0.5 * k2vx, vy_init + 0.5 * k2vy);\n",
        "        double k3vy = dt * dvydt(t + 0.5 * dt, pos_y[i] + 0.5 * k2y, vy_init + 0.5 * k2vy, vx_init + 0.5 * k2vx);\n",
        "        double k3x = dt * dxdt(t + 0.5 * dt, pos_x[i] + 0.5 * k2x, vx_init + 0.5 * k2vx);\n",
        "        double k3y = dt * dydt(t + 0.5 * dt, pos_y[i] + 0.5 * k2y, vy_init + 0.5 * k2vy);\n",
        "\n",
        "        double k4vx = dt * dvxdt(t + dt, pos_x[i] + k3x, vx_init + k3vx, vy_init + k3vy);\n",
        "        double k4vy = dt * dvydt(t + dt, pos_y[i] + k3y, vy_init + k3vy, vx_init + k3vx);\n",
        "        double k4x = dt * dxdt(t + dt, pos_x[i] + k3x, vx_init + k3vx);\n",
        "        double k4y = dt * dydt(t + dt, pos_y[i] + k3y, vy_init + k3vy);\n",
        "\n",
        "        pos_x[i + 1] = pos_x[i] + (k1x + 2 * k2x + 2 * k3x + k4x) / 6.0;\n",
        "        pos_y[i + 1] = pos_y[i] + (k1y + 2 * k2y + 2 * k3y + k4y) / 6.0;\n",
        "\n",
        "        vx_init += (k1vx + 2 * k2vx + 2 * k3vx + k4vx) / 6.0;\n",
        "        vy_init += (k1vy + 2 * k2vy + 2 * k3vy + k4vy) / 6.0;\n",
        "    }\n",
        "\n",
        "    // Guardar datos en un archivo CSV\n",
        "    ofstream myfile;\n",
        "    myfile.open(\"parabolic_with_friction.csv\");\n",
        "    myfile << \"x,y\\n\";\n",
        "    for (int i = 0; i < N; i++) {\n",
        "        myfile << pos_x[i] << \",\" << pos_y[i] << \"\\n\";\n",
        "    }\n",
        "    myfile.close();\n",
        "\n",
        "    return 0;\n",
        "\n",
        "}"
      ]
    },
    {
      "cell_type": "code",
      "execution_count": 4,
      "metadata": {
        "colab": {
          "base_uri": "https://localhost:8080/"
        },
        "id": "FYGuz7qSGSTs",
        "outputId": "cbec16bc-153c-4f74-ef4a-0eca2863edf9"
      },
      "outputs": [
        {
          "name": "stdout",
          "output_type": "stream",
          "text": [
            "total_time:2.733\n",
            "273"
          ]
        }
      ],
      "source": [
        "%%script bash\n",
        "\n",
        "g++ -std=c++14 -Wall -Wextra -pedantic -O3 -o parabolico parabolico.cpp\n",
        "./parabolico"
      ]
    },
    {
      "cell_type": "code",
      "execution_count": 5,
      "metadata": {
        "colab": {
          "base_uri": "https://localhost:8080/",
          "height": 455
        },
        "id": "BxKUcgiUG4q8",
        "outputId": "235b58b9-ff9e-4ea3-c334-671d42ede0e5"
      },
      "outputs": [
        {
          "data": {
            "image/png": "[encoded data removed]",
            "text/plain": [
              "<Figure size 640x480 with 1 Axes>"
            ]
          },
          "metadata": {},
          "output_type": "display_data"
        }
      ],
      "source": [
        "df = pd.read_csv(\"./parabolic_with_friction.csv\")\n",
        "#df_damped = pd.read_csv(\"./x_values_damped.csv\")\n",
        "x = np.array(df[\"x\"])\n",
        "y = np.array(df[\"y\"])\n",
        "#x_damped = np.array(df_damped[\"x\"])\n",
        "#y_damped = np.array(df_damped[\"y\"])\n",
        "\n",
        "plt.ylim([0, 16])\n",
        "plt.xlim([0, 30])\n",
        "plt.xlabel(\"x(m)\")\n",
        "plt.ylabel(\"y(m)\")\n",
        "plt.plot(x, y)\n",
        "#plt.plot(x_damped, y_damped)\n",
        "plt.show()"
      ]
    },
    {
      "cell_type": "code",
      "execution_count": 6,
      "metadata": {
        "id": "ar_lY79vKWqH"
      },
      "outputs": [],
      "source": [
        "%%script bash\n",
        "\n",
        "rm parabolico parabolic_with_friction.csv"
      ]
    },
    {
      "cell_type": "markdown",
      "metadata": {
        "id": "MELZuUDHuP71"
      },
      "source": [
        "## Problema 2\n",
        "\n",
        "Considere un sistema compuesto por una esfera hueca de radio $R$ y masa $M$ que gira sin deslizar la cual está conectada en su centro a un resorte con longitud natural (sin estirar) $l$ del cual cuelga una masa $m$ como se muestra en la figura.\n",
        "\n",
        "![](https://raw.githubusercontent.com/diegour1/MetodosComputacionales2/main/Datafiles/pendulo_resorte_cuerpo_rigido.png)\n",
        "\n",
        "Considere $l_1$, $l_2$, como se muestran en la figura, $f_r$ la fuerza de fricción entre la esfera hueca y la superficie, y $x$, y $y$ como las coordenadas de la masa $m$.\n",
        "\n",
        "a) Demuestre que las ecuaciones de Newton y de ligadura del sistema son las siguientes,\n",
        "\n",
        "\\begin{align}\n",
        "m \\ddot x &= - k(l_2 - l) \\sin{(\\theta)} \\\\\n",
        "m \\ddot y &= - mg + k(l_2 - l) \\cos{(\\theta)} \\\\\n",
        "M \\ddot l_1 &= k(l_2 - l) \\sin{(\\theta)} - f_r \\\\\n",
        "f_r &= \\frac{2}{3}M \\ddot l_1 \\\\\n",
        "\\ddot x &= \\ddot l_1 + \\ddot l_2 \\sin{(\\theta)} + 2 \\dot l_2 \\cos{(\\theta)} \\dot \\theta - l_2 \\sin{(\\theta)} (\\dot \\theta) ^2 + l_2\\cos{(\\theta)} \\ddot \\theta\\\\\n",
        "\\ddot y &= - \\ddot l_2 \\cos{(\\theta)} + 2 \\dot l_2 \\sin{(\\theta)} \\dot \\theta + l_2 \\cos{(\\theta)} (\\dot \\theta) ^2 + l_2\\sin{(\\theta)} \\ddot \\theta\\\\\n",
        "\\end{align}\n",
        "\n",
        "Sus ecuaciones y demonstración aquí,\n",
        "\n",
        "Empezamos definiendo 'x' y 'y':\n",
        "\n",
        "\\begin{align}\n",
        "    x(l_1,l_2,\\theta)&=l_1+l_2\\sin{\\theta}\\\\\n",
        "    y(l_2,\\theta)&=l_2\\cos{\\theta}\n",
        "\\end{align}\n",
        "\n",
        "Ahora hallemos la energía y los potenciales del sistema:\n",
        "\n",
        "\\begin{align}\n",
        "    T&=\\frac{1}{2}m(\\dot{x}^2+\\dot{y}^2)+\\frac{1}{2}M\\dot{l_1}^2+\\frac{1}{2}I\\dot{\\omega}^2\\\\\n",
        "    U&=\\frac{1}{2}k(y-l\\cos{\\theta})^2+\\frac{1}{2}k(x-l_1-l\\sin{\\theta})^2+mgy\n",
        "\\end{align}\n",
        "\n",
        "Con esto tenemos el lagrangiano:\n",
        "\n",
        "\\begin{align}\n",
        "    \\mathcal{L}=\\frac{1}{2}m(\\dot{x}^2+\\dot{y}^2)+\\frac{1}{2}M\\dot{l_1}^2+\\frac{1}{2}I\\dot{\\omega}^2-(\\frac{1}{2}k(y-l\\cos{\\theta})^2+\\frac{1}{2}k(x-l_1-l\\sin{\\theta})^2+mgy)\n",
        "\\end{align}\n",
        "\n",
        "Ahora debemos tener en cuenta algunas restricciones en el sistema.\n",
        "\n",
        "\\begin{align}\n",
        "    l_1=\\omega R\n",
        "\\end{align}\n",
        "\n",
        "Basta entonces con usar la ecuación de Euler-Lagrange en las coordenadas pertinentes y así obtener los resultados de arriba.\n",
        "\n",
        "\\begin{align}\n",
        "    \\frac{\\partial}{\\partial t}\\frac{\\partial \\mathcal{L}}{\\partial \\dot{q}} - \\frac{\\partial \\mathcal{L}}{\\partial y} = 0\n",
        "\\end{align}\n",
        "\n",
        "Y en los casos de la ligadura usaremos también algunos multiplicadores de Lagrange. Entonces tenemos que para y:\n",
        "\n",
        "\\begin{align}\n",
        "    \\frac{\\partial}{\\partial t}\\frac{\\partial \\mathcal{L}}{\\partial \\dot{y}}&=m\\ddot{y}\\\\\n",
        "    \\frac{\\partial \\mathcal{L}}{\\partial y}&=-k(y-l\\cos{\\theta})+mg\\\\\n",
        "    m\\ddot{y}&=k(l-l_2)\\cos{\\theta}-mg\n",
        "\\end{align}\n",
        "\n",
        "Ahora para x:\n",
        "\n",
        "\\begin{align}\n",
        "    \\frac{\\partial}{\\partial t}\\frac{\\partial \\mathcal{L}}{\\partial \\dot{x}}&=m\\ddot{x}\\\\\n",
        "    \\frac{\\partial \\mathcal{L}}{\\partial x}&=-k(x-l_1-l\\sin{\\theta})\\\\\n",
        "    m\\ddot{x}&=k(l-l_2)\\sin{\\theta}\n",
        "\\end{align}\n",
        "\n",
        "Ahora para hallar la restricción:\n",
        "\n",
        "\\begin{align}\n",
        "    \\frac{d}{dt} \\frac{\\partial \\mathcal{L}}{\\partial \\dot{\\omega}}&=I\\ddot{\\omega}\\\\\n",
        "    \\frac{\\partial \\mathcal{L}}{\\partial \\omega}&=0\\\\\n",
        "    f_r\\frac{\\partial F}{\\partial \\omega}&=f_rR\\\\\n",
        "    f_rR&=I\\ddot{\\omega}\\\\\n",
        "\\end{align}\n",
        "\n",
        "Usando la restricción seguimos:\n",
        "\n",
        "\\begin{align}\n",
        "    f_rR&=I\\frac{\\ddot{l_1}}{R}\\\\\n",
        "    f_r&=\\frac{2}{3}M\\ddot{l_1}\n",
        "\\end{align}\n",
        "\n",
        "Ahora para $l_1$:\n",
        "\n",
        "\\begin{align}\n",
        "    \\frac{\\partial}{\\partial t}\\frac{\\partial \\mathcal{L}}{\\partial \\dot{l_1}}&=M\\ddot{l_1}\\\\\n",
        "    \\frac{\\partial \\mathcal{L}}{\\partial l_1}&=k(x-l_1-l\\sin{\\theta})\n",
        "\\end{align}\n",
        "\n",
        "Ahora bien metamos x en la segunda expresión:\n",
        "\n",
        "\\begin{align}\n",
        "    \\frac{\\partial \\mathcal{L}}{\\partial l_1}&=k(l_2-l)\\sin{\\theta}\n",
        "\\end{align}\n",
        "\n",
        "Basta entonces con juntar las expresiones para terminar la demostración. Debemos tener en cuenta sumar la fuerza de restricción, esto pues como en el inciso anterior calculamos esta restricción derivando con respecto a $l_1$:\n",
        "\n",
        "\\begin{align}\n",
        "    M\\ddot{l_1}=k(l_2-l)\\sin{\\theta}-f_r\n",
        "\\end{align}"
      ]
    },
    {
      "cell_type": "markdown",
      "metadata": {
        "id": "nTgb8OMTfB7x"
      },
      "source": [
        "b) Dado que el sistema se puede especificar en términos de solamente las tres coordenadas $(\\theta, l_1, l_2)$ independientes, use la libreria **sympy** para resolver las ecuaciones y demonstrar que se obtiene las tres siguientes ecuaciones diferenciales ordinarias de segundo grado,\n",
        "\n",
        "\\begin{equation}\n",
        "\\ddot \\theta = \\frac{ - 10 Mg\\sin{(\\theta)} - 20M \\dot l_2 \\dot \\theta - 3k(l_2 - l)\\sin{(2\\theta)}}{10Ml_2}\n",
        "\\end{equation}\n",
        "\n",
        "\\begin{equation}\n",
        "\\ddot l_1 = \\frac{3k(l_2 - l)\\sin{(\\theta)}}{5M}\n",
        "\\end{equation}\n",
        "\n",
        "\\begin{equation}\n",
        "\\ddot l_2 = g\\cos{(\\theta)} - \\frac{k(l_2-l)}{m} + l_2(\\dot \\theta)^2 - \\frac{3k (l_2 - l)\\sin^2{(\\theta)}}{5M}\n",
        "\\end{equation}\n",
        "\n",
        "Se deben imprimir las dos ecuaciones resultantes en el notebook."
      ]
    },
    {
      "cell_type": "code",
      "execution_count": 7,
      "metadata": {
        "colab": {
          "base_uri": "https://localhost:8080/",
          "height": 88
        },
        "id": "x5gZt7486AR6",
        "outputId": "32059d75-9dae-4638-e9e7-dbbfac3fd472"
      },
      "outputs": [],
      "source": [
        "## Su codigo aqui\n",
        "\n",
        "# Step 1: Define the variables and functions\n",
        "x, y, l1, l2, theta = sym.symbols('x y l1 l2 theta')\n",
        "x_func = sym.Function('x')(theta)\n",
        "y_func = sym.Function('y')(theta)\n",
        "\n",
        "eq1 = sym.Eq(x_func.diff(theta, 2), l1*sym.cos(theta) - l2*sym.sin(theta))\n",
        "eq2 = sym.Eq(y_func.diff(theta, 2), l1*sym.sin(theta) + l2*sym.cos(theta))\n",
        "\n",
        "# Step 3: Use the dsolve function to solve the equations\n",
        "sol_x = sym.dsolve(eq1, x_func)\n",
        "sol_y = sym.dsolve(eq2, y_func)\n"
      ]
    },
    {
      "cell_type": "code",
      "execution_count": 8,
      "metadata": {},
      "outputs": [
        {
          "name": "stdout",
          "output_type": "stream",
          "text": [
            "Solution for x(theta):\n"
          ]
        },
        {
          "data": {
            "image/png": "[encoded data removed]",
            "text/latex": [
              "$\\displaystyle x{\\left(\\theta \\right)} = C_{1} + C_{2} \\theta - l_{1} \\cos{\\left(\\theta \\right)} + l_{2} \\sin{\\left(\\theta \\right)}$"
            ],
            "text/plain": [
              "x(θ) = C₁ + C₂⋅θ - l₁⋅cos(θ) + l₂⋅sin(θ)"
            ]
          },
          "execution_count": 8,
          "metadata": {},
          "output_type": "execute_result"
        }
      ],
      "source": [
        "sym.init_printing()\n",
        "print(\"Solution for x(theta):\")\n",
        "sol_x\n",
        "\n"
      ]
    },
    {
      "cell_type": "code",
      "execution_count": 9,
      "metadata": {},
      "outputs": [
        {
          "name": "stdout",
          "output_type": "stream",
          "text": [
            "\n",
            "Solution for y(theta):\n"
          ]
        },
        {
          "data": {
            "image/png": "[encoded data removed]",
            "text/latex": [
              "$\\displaystyle y{\\left(\\theta \\right)} = C_{1} + C_{2} \\theta - l_{1} \\sin{\\left(\\theta \\right)} - l_{2} \\cos{\\left(\\theta \\right)}$"
            ],
            "text/plain": [
              "y(θ) = C₁ + C₂⋅θ - l₁⋅sin(θ) - l₂⋅cos(θ)"
            ]
          },
          "execution_count": 9,
          "metadata": {},
          "output_type": "execute_result"
        }
      ],
      "source": [
        "print(\"\\nSolution for y(theta):\")\n",
        "sol_y"
      ]
    },
    {
      "cell_type": "markdown",
      "metadata": {
        "id": "TtDSGwXXOzhk"
      },
      "source": [
        "## Problema 3\n",
        "\n",
        "A partir de las ecuaciones de segundo grado del problema 1, resuelva las ecuaciones diferenciales anteriores con un tiempo total de 5 segundos y pasos $dt$ de 0.005 segundos, con el método de Runge-Kutta (de 4-to u 8-vo orden) y realice una simulación del movimiento, el resultado esperado debe verse como la siguiente simulación,\n",
        "\n",
        "(Cambie el siguiente link de youtube por su simulación)\n",
        "\n",
        "https://www.youtube.com/watch?v=JiHAw8IXkuU\n",
        "\n",
        "Para la simulación use los siguientes parametros:\n",
        "\n",
        "$l = 1 \\text{ m}, \\quad R = 0.2 \\text{ m}, \\quad l_1(t=0) = -1.5 \\text{ m}, \\quad l_2(t=0) = 1 \\text{ m}, \\quad \\dot l_1(t=0) = 0.4 \\text{ m/s}, \\quad \\dot l_2(t=0) = 0 \\text{ m/s}, \\quad m = 8 \\text{ kg}, \\quad M = 10 \\text{ kg}, \\quad k = 300 \\text{ N/m}, \\quad \\theta(t=0)= 70^\\circ, \\quad \\dot \\theta(t=0)= 0 \\text{ rad/s}, \\quad dt = 0.005 \\text{s}, \\quad t_{\\text{total}} = 5 \\text{ s}$."
      ]
    },
    {
      "cell_type": "code",
      "execution_count": 10,
      "metadata": {
        "id": "TCxokLd6-pTY"
      },
      "outputs": [],
      "source": [
        "# Parameters\n",
        "g = 9.8  # m/s^2\n",
        "m = 8.0  # kg\n",
        "M = 10.0  # kg\n",
        "k = 300.0  # N/m\n",
        "l = 1.0  # m natural length of the spring without stretching\n",
        "R = 0.2  # m radius of the hollow sphere\n",
        "tiempo = 5.0  # s\n",
        "puntos = int(tiempo * 200)  # number of points to evaluate in the trajectory\n"
      ]
    },
    {
      "cell_type": "code",
      "execution_count": 11,
      "metadata": {},
      "outputs": [],
      "source": [
        "# Initial conditions\n",
        "theta_init = 70.0 * np.pi / 180.0  # initial angle relative to the vertical (rad)\n",
        "l1_init = -1.5  # m Initial position of mass M\n",
        "l2_init = 1.0  # m initial length of the spring\n",
        "v1_init = 0.4  # m/s Initial velocity of mass M\n",
        "v2_init = 0.0  # m/s Initial velocity of mass m\n",
        "omega_init = 0.0  # initial angular velocity relative to the vertical of the hanging mass (rad/s)\n",
        "\n",
        "# Initial values\n",
        "l1 = l1_init\n",
        "l2 = l2_init\n",
        "theta = theta_init\n",
        "mon_l1 = 0.8\n",
        "mon_l2 = 10\n",
        "mon_theta = 1\n",
        "\n",
        "dt = 0.05\n",
        "t = 0\n",
        "\n",
        "l1s = [-1.5]\n",
        "l2s = [1]\n",
        "thetas = [70 * (np.pi / 180)]\n"
      ]
    },
    {
      "cell_type": "code",
      "execution_count": 13,
      "metadata": {},
      "outputs": [
        {
          "name": "stdout",
          "output_type": "stream",
          "text": [
            "Tiempo usado en crear la animación (s): 15.811317920684814\n"
          ]
        },
        {
          "data": {
            "image/png": "[encoded data removed]",
            "text/plain": [
              "<Figure size 600x400 with 1 Axes>"
            ]
          },
          "metadata": {},
          "output_type": "display_data"
        }
      ],
      "source": [
        "# Define the equations for generalized coordinates\n",
        "def dub_theta(theta, mon_theta, l2, mon_l2, M, g, k, l):\n",
        "    val = ((-10 * M * g * np.sin(theta)) - (20 * M * mon_l2 * mon_theta) - (3 * k * (l2 - l) * np.sin(2 * theta))) / (10 * M * l2)\n",
        "    return val\n",
        "\n",
        "def dub_l1(theta, l2, M, k, l):\n",
        "    val = (3 * k * (l2 - l) * np.sin(theta)) / (5 * M)\n",
        "    return val\n",
        "\n",
        "def dub_l2(theta, mon_theta, l2, M, g, k, l):\n",
        "    val = (g * np.cos(theta)) - ((k * (l2 - l)) / M) + (l2 * mon_theta * mon_theta) - (3 * k * (l2 - l) * np.sin(theta) * np.sin(theta)) / (5 * M)\n",
        "    return val\n",
        "\n",
        "def runge_kutta_4th_order_step(y, dy, dt):\n",
        "    k1 = dt * dy\n",
        "    k2 = dt * (dy + k1 / 2)\n",
        "    k3 = dt * (dy + k2 / 2)\n",
        "    k4 = dt * (dy + k3)\n",
        "    y_new = y + (1 / 6) * (k1 + 2 * k2 + 2 * k3 + k4)\n",
        "    return y_new\n",
        "\n",
        "\n",
        "\n",
        "while t < 5:\n",
        "    # Update l1, l2, and theta using Runge-Kutta 4th order method\n",
        "    l1 = runge_kutta_4th_order_step(l1, mon_l1, dt)\n",
        "    l2 = runge_kutta_4th_order_step(l2, mon_l2, dt)\n",
        "    theta = runge_kutta_4th_order_step(theta, mon_theta, dt)\n",
        "    \n",
        "    # Update mon_l2 and mon_theta\n",
        "    kdubl2 = dt * dub_l2(theta, mon_theta, l2, M, g, k, l)\n",
        "    kdubtheta = dt * dub_theta(theta, mon_theta, l2, mon_l2, M, g, k, l)\n",
        "    mon_l2 += runge_kutta_4th_order_step(0, kdubl2, dt)\n",
        "    mon_theta += runge_kutta_4th_order_step(0, kdubtheta, dt)\n",
        "    \n",
        "    l1s.append(l1 + l1s[0])\n",
        "    l2s.append(l2 + l2s[0])\n",
        "    thetas.append(theta + thetas[0])\n",
        "    \n",
        "    t += dt\n",
        "\n",
        "x = l1s + np.multiply(l2s, np.sin(thetas))\n",
        "y = np.multiply(l2s, np.cos(thetas))\n",
        "\n",
        "# Create a plot\n",
        "fig, ax = plt.subplots(figsize=(6, 4))\n",
        "ax.set_xlim([-20, 20])\n",
        "ax.set_ylim([-10, 10])\n",
        "\n",
        "def update(i):\n",
        "    ax.clear()  \n",
        "    ax.set_xlim([-20, 20])\n",
        "    ax.set_ylim([-10, 10])\n",
        "    ax.plot(x[:i], y[:i], \"blue\")\n",
        "    ax.plot(x[i-1:i+1], y[i-1:i+1], \"red\")  \n",
        "\n",
        "start_time = time.time()\n",
        "anim = ani.FuncAnimation(fig, func=update, frames=range(100))\n",
        "anim.save('sistema_pendulo_resorte_cuerporigido.gif', writer='imagemagick', fps=60)\n",
        "\n",
        "print(\"Tiempo usado en crear la animación (s):\",time.time() - start_time)"
      ]
    }
  ],
  "metadata": {
    "colab": {
      "provenance": []
    },
    "kernelspec": {
      "display_name": "Python 3",
      "name": "python3"
    },
    "language_info": {
      "codemirror_mode": {
        "name": "ipython",
        "version": 3
      },
      "file_extension": ".py",
      "mimetype": "text/x-python",
      "name": "python",
      "nbconvert_exporter": "python",
      "pygments_lexer": "ipython3",
      "version": "3.11.4"
    }
  },
  "nbformat": 4,
  "nbformat_minor": 0
}
